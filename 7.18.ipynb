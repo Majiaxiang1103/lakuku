{
 "cells": [
  {
   "cell_type": "markdown",
   "metadata": {},
   "source": [
    "# 选择\n",
    "## 布尔类型、数值和表达式\n",
    "![](../Photo/33.png)\n",
    "- 注意：比较运算符的相等是两个等到，一个等到代表赋值\n",
    "- 在Python中可以用整型0来代表False，其他数字来代表True\n",
    "- 后面还会讲到 is 在判断语句中的用发"
   ]
  },
  {
   "cell_type": "code",
   "execution_count": 15,
   "metadata": {},
   "outputs": [
    {
     "name": "stdout",
     "output_type": "stream",
     "text": [
      "输入要取出的金额：500\n",
      "取出 500 元\n",
      "剩余 4500 元\n",
      "是否继续取钱，1或0：1\n",
      "取出的金额：4800\n",
      "取出 4800 元\n",
      "剩余 -300 元\n",
      "余额不足，将自动退出\n",
      "退出成功\n"
     ]
    }
   ],
   "source": [
    "money = eval(input('输入要取出的金额：'))\n",
    "yu = 5000\n",
    "if money <= yu:\n",
    "    print('取出',money,'元')\n",
    "    yu = yu - money\n",
    "    print('剩余',yu,'元')\n",
    "    cd = eval(input('是否继续取钱，1或0：'))\n",
    "else:\n",
    "    print('余额不足，自动退出')\n",
    "if cd == 1:\n",
    "    mo = eval(input('取出的金额：'))\n",
    "    print('取出',mo,'元')\n",
    "    yu = yu - mo\n",
    "    print('剩余',yu,'元')\n",
    "    if mo >= yu:\n",
    "        print('余额不足，将自动退出')\n",
    "if cd == 0:\n",
    "    print('推出成功')\n",
    "else:\n",
    "    print('退出成功')\n"
   ]
  },
  {
   "cell_type": "markdown",
   "metadata": {},
   "source": [
    "## 字符串的比较使用ASCII值"
   ]
  },
  {
   "cell_type": "markdown",
   "metadata": {},
   "source": [
    "## Markdown \n",
    "- https://github.com/younghz/Markdown"
   ]
  },
  {
   "cell_type": "markdown",
   "metadata": {},
   "source": [
    "## EP:\n",
    "- <img src=\"../Photo/34.png\"></img>\n",
    "- 输入一个数字，判断其实奇数还是偶数"
   ]
  },
  {
   "cell_type": "markdown",
   "metadata": {},
   "source": [
    "## 产生随机数字\n",
    "- 函数random.randint(a,b) 可以用来产生一个a和b之间且包括a和b的随机整数"
   ]
  },
  {
   "cell_type": "markdown",
   "metadata": {},
   "source": [
    "##  其他random方法\n",
    "- random.random 返回0.0到1.0之间前闭后开区间的随机浮点\n",
    "- random.randrange(a,b) 前闭后开"
   ]
  },
  {
   "cell_type": "markdown",
   "metadata": {},
   "source": [
    "## EP：\n",
    "- 产生两个随机整数number1和number2，然后显示给用户，使用户输入数字的和，并判定其是否正确\n",
    "- 进阶:写一个随机序号点名程序"
   ]
  },
  {
   "cell_type": "code",
   "execution_count": 22,
   "metadata": {},
   "outputs": [
    {
     "name": "stdout",
     "output_type": "stream",
     "text": [
      "7 7\n",
      "输入两个之和5\n",
      "fail\n"
     ]
    }
   ],
   "source": [
    "import random\n",
    "number1=random.randint(0,10)\n",
    "number2=random.randint(0,10)\n",
    "print(number1,number2)\n",
    "sum = eval(input('输入两个之和'))\n",
    "if sum == number1 + number2:\n",
    "    print('success')\n",
    "else:\n",
    "    print('fail')"
   ]
  },
  {
   "cell_type": "code",
   "execution_count": 225,
   "metadata": {},
   "outputs": [
    {
     "name": "stdout",
     "output_type": "stream",
     "text": [
      "9，6\n"
     ]
    }
   ],
   "source": [
    "import random\n",
    "x = random.randint(1,10)\n",
    "y = random.randint(1,5)\n",
    "if x == 10:\n",
    "    if y == 5:\n",
    "        print('9，6')\n",
    "    if y < 5:\n",
    "        print(x,y)\n",
    "else: \n",
    "    print(x,y)"
   ]
  },
  {
   "cell_type": "markdown",
   "metadata": {},
   "source": [
    "## if语句\n",
    "- 如果条件正确就执行一个单向if语句，亦即当条件为真的时候才执行if内部的语句\n",
    "- Python有很多选择语句:\n",
    "> - 单向if \n",
    "  - 双向if-else\n",
    "  - 嵌套if\n",
    "  - 多向if-elif-else\n",
    "  \n",
    "- 注意：当语句含有子语句的时候，那么一定至少要有一个缩进，也就是说如果有儿子存在，那么一定要缩进\n",
    "- 切记不可tab键和space混用，单用tab 或者 space\n",
    "- 当你输出的结果是无论if是否为真时都需要显示时，语句应该与if对齐"
   ]
  },
  {
   "cell_type": "markdown",
   "metadata": {},
   "source": [
    "## EP：\n",
    "- 用户输入一个数字，判断其实奇数还是偶数\n",
    "- 进阶：可以查看下4.5实例研究猜生日"
   ]
  },
  {
   "cell_type": "code",
   "execution_count": 229,
   "metadata": {},
   "outputs": [
    {
     "name": "stdout",
     "output_type": "stream",
     "text": [
      "输入名字：1\n",
      "抢券成功\n"
     ]
    }
   ],
   "source": [
    "yyy = 1\n",
    "zzz = 0\n",
    "s = eval(input('输入名字：'))\n",
    "if s == zzz:\n",
    "    print('抱歉没有抢到')\n",
    "elif s == yyy:\n",
    "    print('抢券成功')\n",
    "    "
   ]
  },
  {
   "cell_type": "markdown",
   "metadata": {},
   "source": [
    "## 双向if-else 语句\n",
    "- 如果条件为真，那么走if内部语句，否则走else内部语句"
   ]
  },
  {
   "cell_type": "markdown",
   "metadata": {},
   "source": [
    "## EP：\n",
    "- 产生两个随机整数number1和number2，然后显示给用户，使用户输入数字，并判定其是否正确,如果正确打印“you‘re correct”，否则打印正确错误"
   ]
  },
  {
   "cell_type": "markdown",
   "metadata": {},
   "source": [
    "## 嵌套if 和多向if-elif-else\n",
    "![](../Photo/35.png)"
   ]
  },
  {
   "cell_type": "markdown",
   "metadata": {},
   "source": [
    "## EP：\n",
    "- 提示用户输入一个年份，然后显示表示这一年的动物\n",
    "![](../Photo/36.png)\n",
    "- 计算身体质量指数的程序\n",
    "- BMI = 以千克为单位的体重除以以米为单位的身高\n",
    "![](../Photo/37.png)"
   ]
  },
  {
   "cell_type": "code",
   "execution_count": 11,
   "metadata": {},
   "outputs": [
    {
     "name": "stdout",
     "output_type": "stream",
     "text": [
      "身高1.82\n",
      "体重KG:110\n",
      "33.20854969206617\n",
      "痴肥\n",
      "到达标准至少减少： 27.189999999999998 kg\n"
     ]
    }
   ],
   "source": [
    "tail = eval(input('身高'))\n",
    "heavy = eval(input('体重KG:'))\n",
    "BMI = heavy / tail / tail\n",
    "print(BMI)\n",
    "if BMI < 18.5:\n",
    "    print('超轻')\n",
    "    ss = 18.5 * tail *tail \n",
    "    s = ss - heavy\n",
    "    print('到达标准需要至少增重：',s,'kg')\n",
    "elif 18.5 <= BMI <25.0:\n",
    "    print('标准')\n",
    "elif 25.0 <= BMI <30.0:\n",
    "    print('超重')\n",
    "    dd = 25 * tail *tail \n",
    "    d = heavy - dd\n",
    "    print('到达标准至少减少：',d,'kg')\n",
    "else:\n",
    "    print('痴肥')\n",
    "    cc = 25 * tail *tail \n",
    "    c = heavy - cc\n",
    "    print('到达标准至少减少：',c,'kg')\n"
   ]
  },
  {
   "cell_type": "code",
   "execution_count": 2,
   "metadata": {},
   "outputs": [
    {
     "ename": "SyntaxError",
     "evalue": "invalid syntax (<ipython-input-2-935ab1e0c8f8>, line 2)",
     "output_type": "error",
     "traceback": [
      "\u001b[1;36m  File \u001b[1;32m\"<ipython-input-2-935ab1e0c8f8>\"\u001b[1;36m, line \u001b[1;32m2\u001b[0m\n\u001b[1;33m    if  year % 12 = 0:\u001b[0m\n\u001b[1;37m                  ^\u001b[0m\n\u001b[1;31mSyntaxError\u001b[0m\u001b[1;31m:\u001b[0m invalid syntax\n"
     ]
    }
   ],
   "source": [
    "year = eval(input('输入一个年份'))\n",
    "if  year % 12 = 0:\n",
    "    print('猴年')\n",
    "elif year % 12 = 1:\n",
    "    print('鸡')\n",
    "elif year % 12 = 2:\n",
    "    print('狗')\n",
    "elif year % 12 = 3:\n",
    "    print('猪')\n",
    "elif year % 12 = 4:\n",
    "    print('鼠')\n",
    "elif year % 12 = 5:\n",
    "    print('牛')\n",
    "elif year % 12 = 6:\n",
    "    print('虎')\n",
    "elif year % 12 = 7:\n",
    "    print('兔')\n",
    "elif year % 12 = 8:\n",
    "    print('龙')\n",
    "elif year % 12 = 9:\n",
    "    print('蛇')\n",
    "elif year % 12 = 10:\n",
    "    print('马')\n",
    "else:\n",
    "    print('羊')"
   ]
  },
  {
   "cell_type": "code",
   "execution_count": 230,
   "metadata": {},
   "outputs": [
    {
     "data": {
      "text/plain": [
       "0"
      ]
     },
     "execution_count": 230,
     "metadata": {},
     "output_type": "execute_result"
    }
   ],
   "source": [
    "2016%12"
   ]
  },
  {
   "cell_type": "markdown",
   "metadata": {},
   "source": [
    "## 逻辑运算符\n",
    "![](../Photo/38.png)"
   ]
  },
  {
   "cell_type": "markdown",
   "metadata": {},
   "source": [
    "![](../Photo/39.png)\n",
    "![](../Photo/40.png)"
   ]
  },
  {
   "cell_type": "markdown",
   "metadata": {},
   "source": [
    "## EP：\n",
    "- 判定闰年：一个年份如果能被4整除但不能被100整除，或者能被400整除，那么这个年份就是闰年\n",
    "- 提示用户输入一个年份，并返回是否是闰年\n",
    "- 提示用户输入一个数字，判断其是否为水仙花数"
   ]
  },
  {
   "cell_type": "code",
   "execution_count": 10,
   "metadata": {},
   "outputs": [
    {
     "name": "stdout",
     "output_type": "stream",
     "text": [
      "输入一个年份2015\n",
      "2015 是平年\n"
     ]
    }
   ],
   "source": [
    "year = eval(input('输入一个年份'))\n",
    "if year % 4 == 0 and 400 % 4 == 0:\n",
    "    print(year,'是闰年')\n",
    "else:\n",
    "    print(year,'是平年')"
   ]
  },
  {
   "cell_type": "code",
   "execution_count": 1,
   "metadata": {},
   "outputs": [
    {
     "name": "stdout",
     "output_type": "stream",
     "text": [
      "153\n",
      "370\n",
      "371\n",
      "407\n"
     ]
    }
   ],
   "source": [
    "for s in range(100,1000):\n",
    "    a = s // 100 \n",
    "    b = s % 100 // 10\n",
    "    c = s % 10 \n",
    "    if s == a*a*a+b*b*b+c*c*c:\n",
    "        print (s)\n"
   ]
  },
  {
   "cell_type": "markdown",
   "metadata": {},
   "source": [
    "## 实例研究：彩票\n",
    "![](../Photo/41.png)"
   ]
  },
  {
   "cell_type": "code",
   "execution_count": 15,
   "metadata": {},
   "outputs": [
    {
     "name": "stdout",
     "output_type": "stream",
     "text": [
      "14\n",
      "输入一个两位数：11\n",
      "奖金1000￥\n"
     ]
    }
   ],
   "source": [
    "import random\n",
    "s = random.randint(10,99)\n",
    "print(s)\n",
    "a = eval(input('输入一个两位数：'))\n",
    "b = a // 10\n",
    "c = a % 10 \n",
    "if a == s:\n",
    "    print('奖金10000￥')\n",
    "elif s == b+c*10:\n",
    "    print('奖金3000￥')\n",
    "elif s // 10 == b or s // 10 == c or s % 10 ==b or s % 10 ==c:\n",
    "    print('奖金1000￥')\n",
    "else:\n",
    "    print('没有中奖')"
   ]
  },
  {
   "cell_type": "code",
   "execution_count": 17,
   "metadata": {},
   "outputs": [
    {
     "data": {
      "text/plain": [
       "-27"
      ]
     },
     "execution_count": 17,
     "metadata": {},
     "output_type": "execute_result"
    }
   ],
   "source": [
    "58 - 85\n",
    "\n"
   ]
  },
  {
   "cell_type": "markdown",
   "metadata": {},
   "source": [
    "# Homework\n",
    "- 1\n",
    "![](../Photo/42.png)"
   ]
  },
  {
   "cell_type": "code",
   "execution_count": 24,
   "metadata": {},
   "outputs": [
    {
     "name": "stdout",
     "output_type": "stream",
     "text": [
      "请输入a,b,c的值：1,2,3\n",
      "没有根\n"
     ]
    }
   ],
   "source": [
    "import math\n",
    "a,b,c = eval(input('请输入a,b,c的值：'))\n",
    "s = b*b-4*a*c\n",
    "if s > 0:\n",
    "    r1 = (-b+math.sqrt(s))/(2*a)\n",
    "    r2 = (-b-math.sqrt(s))/(2*a)\n",
    "    print ('两个根分别是',r1,r2)\n",
    "elif s == 0:\n",
    "    r1 = (-b+math.sqrt(s))/(2*a)\n",
    "    r2 = (-b-math.sqrt(s))/(2*a)\n",
    "    print ('两个相等的根', r1)\n",
    "else:\n",
    "    print('没有根')"
   ]
  },
  {
   "cell_type": "markdown",
   "metadata": {},
   "source": [
    "- 2\n",
    "![](../Photo/43.png)"
   ]
  },
  {
   "cell_type": "code",
   "execution_count": 26,
   "metadata": {},
   "outputs": [
    {
     "name": "stdout",
     "output_type": "stream",
     "text": [
      "30 , 16\n",
      "请输入两个数字之和55\n",
      "fail\n"
     ]
    }
   ],
   "source": [
    "import random\n",
    "a = random.randint(0,100)\n",
    "b = random.randint(0,100)\n",
    "print(a,',',b)\n",
    "c = eval(input('请输入两个数字之和'))\n",
    "if c == a+b:\n",
    "    print ('success')\n",
    "else:\n",
    "    print ('fail')"
   ]
  },
  {
   "cell_type": "markdown",
   "metadata": {},
   "source": [
    "- 3\n",
    "![](../Photo/44.png)"
   ]
  },
  {
   "cell_type": "code",
   "execution_count": 152,
   "metadata": {},
   "outputs": [
    {
     "ename": "IndentationError",
     "evalue": "expected an indented block (<ipython-input-152-f7d3ba19e3b2>, line 6)",
     "output_type": "error",
     "traceback": [
      "\u001b[1;36m  File \u001b[1;32m\"<ipython-input-152-f7d3ba19e3b2>\"\u001b[1;36m, line \u001b[1;32m6\u001b[0m\n\u001b[1;33m    today = '周日'\u001b[0m\n\u001b[1;37m        ^\u001b[0m\n\u001b[1;31mIndentationError\u001b[0m\u001b[1;31m:\u001b[0m expected an indented block\n"
     ]
    }
   ],
   "source": []
  },
  {
   "cell_type": "markdown",
   "metadata": {},
   "source": [
    "- 4\n",
    "![](../Photo/45.png)"
   ]
  },
  {
   "cell_type": "code",
   "execution_count": 158,
   "metadata": {},
   "outputs": [
    {
     "name": "stdout",
     "output_type": "stream",
     "text": [
      "输入三个整数6,4,5\n",
      "4 5 6\n"
     ]
    }
   ],
   "source": [
    "a,b,c =eval(input('输入三个整数'))\n",
    "if a>b and a>c and b>c:\n",
    "    print(c,b,a)\n",
    "elif b>a and b>c and a>c:\n",
    "    print(c,a,b)\n",
    "elif a>b and c>b and a>c:\n",
    "    print(b,c,a)\n",
    "elif a>b and c>b and c>a:\n",
    "    print(b,a,c)\n",
    "elif c>a and b>a and b>c:\n",
    "    print(a,c,b)\n",
    "elif b>a and c>a and c>b:\n",
    "    print(a,b,c)"
   ]
  },
  {
   "cell_type": "markdown",
   "metadata": {},
   "source": [
    "- 5\n",
    "![](../Photo/46.png)"
   ]
  },
  {
   "cell_type": "code",
   "execution_count": 32,
   "metadata": {},
   "outputs": [
    {
     "name": "stdout",
     "output_type": "stream",
     "text": [
      "输入第一种大米的重量和价钱50,24.59\n",
      "输入第二种大米的重量和价钱25,11.99\n",
      "第二种更便宜\n"
     ]
    }
   ],
   "source": [
    "a1 , b1 = eval(input('输入第一种大米的重量和价钱'))\n",
    "a2 , b2 = eval(input('输入第二种大米的重量和价钱'))\n",
    "if a1 * b1 < a2 * b2:\n",
    "    print('第一种更便宜')\n",
    "else:\n",
    "    print('第二种更便宜')"
   ]
  },
  {
   "cell_type": "markdown",
   "metadata": {},
   "source": [
    "- 6\n",
    "![](../Photo/47.png)"
   ]
  },
  {
   "cell_type": "code",
   "execution_count": 39,
   "metadata": {},
   "outputs": [
    {
     "name": "stdout",
     "output_type": "stream",
     "text": [
      "输入月份和年：2,2012\n",
      "2012 年 2 月 有29天\n"
     ]
    }
   ],
   "source": [
    "a,b = eval(input('输入月份和年：'))\n",
    "if a == 2:\n",
    "    if b % 4 == 0:\n",
    "        print(b,'年',a,'月','有29天')\n",
    "    else:\n",
    "        print(b,'年',a,'月','有28天')\n",
    "elif a == 1 or 3 or 5 or 7 or 8 or 10 or 12:\n",
    "    print(b,'年',a,'月','有31天')\n",
    "elif a == 4 or 6 or 9 or 11:\n",
    "    print(b,'年',a,'月','有30天')\n"
   ]
  },
  {
   "cell_type": "markdown",
   "metadata": {},
   "source": [
    "- 7\n",
    "![](../Photo/48.png)"
   ]
  },
  {
   "cell_type": "code",
   "execution_count": 42,
   "metadata": {},
   "outputs": [
    {
     "name": "stdout",
     "output_type": "stream",
     "text": [
      "猜测硬币0代表背面，1代表正面0\n",
      "fail\n"
     ]
    }
   ],
   "source": [
    "import random\n",
    "b = random.randint(0,1)\n",
    "a = eval(input('猜测硬币0代表背面，1代表正面'))\n",
    "if a == b:\n",
    "    print('success')\n",
    "else:\n",
    "    print ('fail')"
   ]
  },
  {
   "cell_type": "markdown",
   "metadata": {},
   "source": [
    "- 8\n",
    "![](../Photo/49.png)"
   ]
  },
  {
   "cell_type": "code",
   "execution_count": 49,
   "metadata": {},
   "outputs": [
    {
     "name": "stdout",
     "output_type": "stream",
     "text": [
      "请输入0，1，2 分别代表剪刀，石头，布0\n",
      "2 success\n"
     ]
    }
   ],
   "source": [
    "import random\n",
    "x = random.randint(0,2)\n",
    "a = eval(input('请输入0，1，2 分别代表剪刀，石头，布'))\n",
    "if x == a:\n",
    "    print (x,'平局')\n",
    "elif x - a == 1:\n",
    "    print (x,'fail')\n",
    "elif a - x == 1:\n",
    "    print (x,'success')\n",
    "elif x == 2 and a ==0:\n",
    "    print(x,'success')\n",
    "elif x == 0 and a == 2:\n",
    "    print(x,'fail')"
   ]
  },
  {
   "cell_type": "markdown",
   "metadata": {},
   "source": [
    "- 9\n",
    "![](../Photo/50.png)"
   ]
  },
  {
   "cell_type": "code",
   "execution_count": 148,
   "metadata": {},
   "outputs": [
    {
     "name": "stdout",
     "output_type": "stream",
     "text": [
      "输入年份2012\n",
      "输入月份5\n",
      "输入那一天12\n",
      "周日\n"
     ]
    }
   ],
   "source": [
    "year = eval(input('输入年份'))\n",
    "m = eval(input('输入月份'))\n",
    "if m == 1:\n",
    "    year = year -1\n",
    "    m = 13\n",
    "elif m == 2:\n",
    "    year = year - 1\n",
    "    m = 14\n",
    "q = eval(input('输入那一天'))\n",
    "j = year / 100\n",
    "k = year % 100\n",
    "h = int((q+26*(m+1)/10+k+k/4+j/4+5*j)%7)\n",
    "if h == 0:\n",
    "    print('周六')\n",
    "elif h == 1:\n",
    "    print('周日')\n",
    "elif h == 2:\n",
    "    print('周一')\n",
    "elif h == 3:\n",
    "    print('周二')\n",
    "elif h == 4:\n",
    "    print('周三')\n",
    "elif h == 5:\n",
    "    print('周四')    #43.2\n",
    "elif h == 6:\n",
    "    print('周五')"
   ]
  },
  {
   "cell_type": "markdown",
   "metadata": {},
   "source": [
    "- 10\n",
    "![](../Photo/51.png)"
   ]
  },
  {
   "cell_type": "code",
   "execution_count": 138,
   "metadata": {},
   "outputs": [
    {
     "name": "stdout",
     "output_type": "stream",
     "text": [
      "你选的牌是 方块 5\n"
     ]
    }
   ],
   "source": [
    "import random\n",
    "a = random.randint(1,13)\n",
    "if a == 1:\n",
    "    a = 'ace'\n",
    "elif a == 11:\n",
    "    a = 'jack'\n",
    "elif a == 12:\n",
    "    a = 'queen'\n",
    "elif a == 13:\n",
    "    a = 'king'\n",
    "b = random.randint(1,4)\n",
    "if b == 1:\n",
    "    b = '梅花'\n",
    "elif b == 2:\n",
    "    b = '红桃'\n",
    "elif b == 3:\n",
    "    b = '方块'\n",
    "elif b == 4:\n",
    "    b = '黑桃'\n",
    "print('你选的牌是',b,a)"
   ]
  },
  {
   "cell_type": "markdown",
   "metadata": {},
   "source": [
    "- 11\n",
    "![](../Photo/52.png)"
   ]
  },
  {
   "cell_type": "markdown",
   "metadata": {},
   "source": [
    "- 12\n",
    "![](../Photo/53.png)"
   ]
  },
  {
   "cell_type": "code",
   "execution_count": 141,
   "metadata": {},
   "outputs": [
    {
     "name": "stdout",
     "output_type": "stream",
     "text": [
      "请输入三角形的三边长：1,2,8\n",
      "这不能组成一个三角形\n"
     ]
    }
   ],
   "source": [
    "a,b,c = eval(input('请输入三角形的三边长：'))\n",
    "if a + b < c or a + c < b or b + c < a:\n",
    "    print ('这不能组成一个三角形')\n",
    "else:\n",
    "    print ('这个三角形的周长是',a+b+c)"
   ]
  }
 ],
 "metadata": {
  "kernelspec": {
   "display_name": "Python 3",
   "language": "python",
   "name": "python3"
  },
  "language_info": {
   "codemirror_mode": {
    "name": "ipython",
    "version": 3
   },
   "file_extension": ".py",
   "mimetype": "text/x-python",
   "name": "python",
   "nbconvert_exporter": "python",
   "pygments_lexer": "ipython3",
   "version": "3.6.4"
  }
 },
 "nbformat": 4,
 "nbformat_minor": 2
}
